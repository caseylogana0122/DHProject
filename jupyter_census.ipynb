{
 "cells": [
  {
   "cell_type": "markdown",
   "id": "8519bc95",
   "metadata": {},
   "source": [
    "This is the computational notebook for Casey A'Hearn's final project, \"Single Ladies in the Mormon Mexican Colonies\".\n",
    "\n",
    "Our research question is as follows: How many single women are there in the 1898-1903 census of the Mormon Colonies of Mexico? Along the way, we are going to be visualizing our data in pie charts to look at the porportions of labeled males versus females and married females verses single females.\n",
    "\n",
    "Begin by importing necessary libraries and .csv files created from the census data."
   ]
  },
  {
   "cell_type": "code",
   "execution_count": null,
   "id": "65599a56",
   "metadata": {},
   "outputs": [],
   "source": [
    "import pandas as pd\n",
    "import numpy as np\n",
    "import matplotlib.pyplot as plt\n",
    "\n",
    "\n",
    "#Read CSV files\n",
    "url_chu = 'https://github.com/caseylogana0122/DHProject/blob/main/chuichupa.csv'\n",
    "df_chu = pd.read_csv(url_chu, index_col=0)\n",
    "url_diaz = 'https://github.com/caseylogana0122/DHProject/blob/main/diaz.csv'\n",
    "df_diaz = pd.read_csv(url_diaz, index_col=0)\n",
    "url_dublan = 'https://github.com/caseylogana0122/DHProject/blob/main/dublan.csv'\n",
    "df_dublan = pd.read_csv(url_dublan, index_col=0)\n",
    "url_gar = 'https://github.com/caseylogana0122/DHProject/blob/main/garcia.csv'\n",
    "df_gar = pd.read_csv(url_gar, index_col=0)\n",
    "url_gua = 'https://github.com/caseylogana0122/DHProject/blob/main/guadaloupe.csv'\n",
    "df_gua = pd.read_csv(url_gua, index_col=0)\n",
    "url_juarez = 'https://github.com/caseylogana0122/DHProject/blob/main/juarez.csv'\n",
    "df_juarez = pd.read_csv(url_juarez, index_col=0)\n",
    "url_pa = 'https://github.com/caseylogana0122/DHProject/blob/main/pancheco.csv'\n",
    "df_pa = pd.read_csv(url_pa, index_col=0)  "
   ]
  },
  {
   "cell_type": "markdown",
   "id": "746df50a",
   "metadata": {},
   "source": [
    "Next, we are going to load equations to calculate how many men and woman are labeled throughout the colonies. They are long. They are ugly. But they work. For each dataframe, we look at the 'sex_indicated' column, make the contents lowercased (to ensure consistency) and sum up the number of times the criteria 'female' or 'male' is fulfilled!"
   ]
  },
  {
   "cell_type": "code",
   "execution_count": 2,
   "id": "ed8828f8",
   "metadata": {},
   "outputs": [
    {
     "name": "stdout",
     "output_type": "stream",
     "text": [
      "1106\n",
      "1054\n"
     ]
    }
   ],
   "source": [
    "female_count = (df_pa['sex_indicated'].str.lower().value_counts().get('female', 0) + df_chu['sex_indicated'].str.lower().value_counts().get('female', 0) + df_diaz['sex_indicated'].str.lower().value_counts().get('female', 0) + df_dublan['sex_indicated'].str.lower().value_counts().get('female', 0) + df_gar['sex_indicated'].str.lower().value_counts().get('female', 0) + df_gua['sex_indicated'].str.lower().value_counts().get('female', 0) + df_juarez['sex_indicated'].str.lower().value_counts().get('female', 0))\n",
    "print(female_count)\n",
    "\n",
    "male_count = (df_pa['sex_indicated'].str.lower().value_counts().get('male', 0) + df_chu['sex_indicated'].str.lower().value_counts().get('male', 0) + df_diaz['sex_indicated'].str.lower().value_counts().get('male', 0) + df_dublan['sex_indicated'].str.lower().value_counts().get('male', 0) + df_gar['sex_indicated'].str.lower().value_counts().get('male', 0) + df_gua['sex_indicated'].str.lower().value_counts().get('male', 0) + df_juarez['sex_indicated'].str.lower().value_counts().get('male', 0))\n",
    "print(male_count)"
   ]
  },
  {
   "cell_type": "markdown",
   "id": "d3f36d4d",
   "metadata": {},
   "source": [
    "Great! We are able to see that the total number of labeled females in the colonies total to 1106 individuals. Likewise, the total number of labeled males in the colonies total to 1054. \n",
    "\n",
    "To see the gender distribution another way, let's create a pie chart. We will be following https://www.w3schools.com/python/matplotlib_pie_charts.asp as a guide. Additionally, big thanks to this stack overflow thread about displaying percentages and totals in our pie chart: https://stackoverflow.com/questions/6170246/how-do-i-use-matplotlib-autopct."
   ]
  },
  {
   "cell_type": "code",
   "execution_count": 3,
   "id": "f75b1da6",
   "metadata": {},
   "outputs": [
    {
     "data": {
      "image/png": "[encoded data removed]",
      "text/plain": [
       "<Figure size 640x480 with 1 Axes>"
      ]
     },
     "metadata": {},
     "output_type": "display_data"
    }
   ],
   "source": [
    "y = np.array([female_count, male_count])\n",
    "mylabels = ['Females', 'Males',]\n",
    "colors = ['pink', 'blue']\n",
    "\n",
    "total = sum(y)\n",
    "def autopct_format(pct):\n",
    "    absolute = round(pct/100.*total)\n",
    "    return \"{:.1f}%\\n({:d})\".format(pct, absolute)\n",
    "\n",
    "plt.title(\"Labeled Gender Distribution Throughout Mormon Colonies\")\n",
    "plt.pie(y, labels=mylabels, colors=colors, autopct=autopct_format)\n",
    "plt.show()"
   ]
  },
  {
   "cell_type": "markdown",
   "id": "711433c0",
   "metadata": {},
   "source": [
    "Yay! Our pie chart has been created. We can double-check to make sure the totals are the same... And they are!\n",
    "\n",
    "The next step is going to get a little ugly - but code that works is code that works, in my opinion. \n",
    "We want to create a variable that is the sum of all the women throughout the colonies who have both 'female' and 'married' in their row. We will need this information for another pie chart. There are many ways to do this but just to be on the safe side, I decided to take it one colony at a time. Our dataframe does not have 'shape' to it, as it is only one layer, but we need to define it as 0 anyway - hence our .shape[0]. "
   ]
  },
  {
   "cell_type": "code",
   "execution_count": 4,
   "id": "93109ad5",
   "metadata": {},
   "outputs": [
    {
     "name": "stdout",
     "output_type": "stream",
     "text": [
      "262\n"
     ]
    }
   ],
   "source": [
    "female_married_count = (\n",
    "    (df_chu[\n",
    "        (df_chu['sex_indicated'].str.lower() == 'female') &\n",
    "        (df_chu['marriage_status'].str.lower() == 'married')\n",
    "    ].shape[0]) +\n",
    "    (df_pa[\n",
    "        (df_pa['sex_indicated'].str.lower() == 'female') &\n",
    "        (df_pa['marriage_status'].str.lower() == 'married')\n",
    "    ].shape[0]) +\n",
    "    (df_diaz[\n",
    "        (df_diaz['sex_indicated'].str.lower() == 'female') &\n",
    "        (df_diaz['marriage_status'].str.lower() == 'married')\n",
    "    ].shape[0]) +\n",
    "    (df_dublan[\n",
    "        (df_dublan['sex_indicated'].str.lower() == 'female') &\n",
    "        (df_dublan['marriage_status'].str.lower() == 'married')\n",
    "    ].shape[0]) +\n",
    "    (df_gar[\n",
    "        (df_gar['sex_indicated'].str.lower() == 'female') &\n",
    "        (df_gar['marriage_status'].str.lower() == 'married')\n",
    "    ].shape[0]) +\n",
    "    (df_gua[\n",
    "        (df_gua['sex_indicated'].str.lower() == 'female') &\n",
    "        (df_gua['marriage_status'].str.lower() == 'married')\n",
    "    ].shape[0]) +\n",
    "    (df_juarez[\n",
    "        (df_juarez['sex_indicated'].str.lower() == 'female') &\n",
    "        (df_juarez['marriage_status'].str.lower() == 'married')\n",
    "    ].shape[0])\n",
    ")\n",
    "print(female_married_count)"
   ]
  },
  {
   "cell_type": "markdown",
   "id": "2fd9c02e",
   "metadata": {},
   "source": [
    "As you can see, we have 262 women who fit our critera - female & married. Now, we need to get our female & single data!\n",
    "\n",
    "To keep things consistent, we are using the same base code but changing one variable: married to single. It it isn't broken, don't fix it."
   ]
  },
  {
   "cell_type": "code",
   "execution_count": 5,
   "id": "626fbddf",
   "metadata": {},
   "outputs": [
    {
     "name": "stdout",
     "output_type": "stream",
     "text": [
      "125\n"
     ]
    }
   ],
   "source": [
    "female_single_count = (\n",
    "    (df_chu[\n",
    "        (df_chu['sex_indicated'].str.lower() == 'female') &\n",
    "        (df_chu['marriage_status'].str.lower() == 'single')\n",
    "    ].shape[0]) +\n",
    "    (df_pa[\n",
    "        (df_pa['sex_indicated'].str.lower() == 'female') &\n",
    "        (df_pa['marriage_status'].str.lower() == 'single')\n",
    "    ].shape[0]) +\n",
    "    (df_diaz[\n",
    "        (df_diaz['sex_indicated'].str.lower() == 'female') &\n",
    "        (df_diaz['marriage_status'].str.lower() == 'single')\n",
    "    ].shape[0]) +\n",
    "    (df_dublan[\n",
    "        (df_dublan['sex_indicated'].str.lower() == 'female') &\n",
    "        (df_dublan['marriage_status'].str.lower() == 'single')\n",
    "    ].shape[0]) +\n",
    "    (df_gar[\n",
    "        (df_gar['sex_indicated'].str.lower() == 'female') &\n",
    "        (df_gar['marriage_status'].str.lower() == 'single')\n",
    "    ].shape[0]) +\n",
    "    (df_gua[\n",
    "        (df_gua['sex_indicated'].str.lower() == 'female') &\n",
    "        (df_gua['marriage_status'].str.lower() == 'single')\n",
    "    ].shape[0]) +\n",
    "    (df_juarez[\n",
    "        (df_juarez['sex_indicated'].str.lower() == 'female') &\n",
    "        (df_juarez['marriage_status'].str.lower() == 'single')\n",
    "    ].shape[0])\n",
    ")\n",
    "print(female_single_count)"
   ]
  },
  {
   "cell_type": "markdown",
   "id": "1234e42e",
   "metadata": {},
   "source": [
    "Great! Now we have all of the necessary data for our labeled female datagroup. Time to make a pie!"
   ]
  },
  {
   "cell_type": "code",
   "execution_count": 6,
   "id": "d1ebcf1a",
   "metadata": {},
   "outputs": [
    {
     "data": {
      "image/png": "[encoded data removed]",
      "text/plain": [
       "<Figure size 640x480 with 1 Axes>"
      ]
     },
     "metadata": {},
     "output_type": "display_data"
    }
   ],
   "source": [
    "y = np.array([female_married_count, female_single_count])\n",
    "mylabels = ['Married Females', 'Single Females',]\n",
    "colors = ['pink', 'green']\n",
    "\n",
    "total = sum(y)\n",
    "def autopct_format(pct):\n",
    "    absolute = round(pct/100.*total)\n",
    "    return \"{:.1f}%\\n({:d})\".format(pct, absolute)\n",
    "\n",
    "plt.title(\"Married-to-Single Females Throughout Mormon Colonies\")\n",
    "plt.pie(y, labels=mylabels, colors=colors, autopct=autopct_format)\n",
    "plt.show()"
   ]
  },
  {
   "cell_type": "markdown",
   "id": "84f01452",
   "metadata": {},
   "source": [
    "Now that we have created that chart, we are going to generate a list of all 125 single females throughout the colonies."
   ]
  },
  {
   "cell_type": "code",
   "execution_count": 7,
   "id": "ba95c68d",
   "metadata": {},
   "outputs": [
    {
     "name": "stdout",
     "output_type": "stream",
     "text": [
      "     fam_ID   last_name first_name age nation_of_origin sex_indicated  \\\n",
      "22        5    Chestnut      Grace  26    E.U. of North        female   \n",
      "29        8       Hakes    Enrique  29    E.U. of North        female   \n",
      "56       13   Martineau   Berta M.  18    E.U. of North        female   \n",
      "70       15     Russell    Sara E.  55    E.U. of North        female   \n",
      "2         2       Black     Era M.  32    E.U. of North        female   \n",
      "..      ...         ...        ...  ..              ...           ...   \n",
      "566     126    Woodbury     Ana M.  39    E.U. of North        female   \n",
      "567     127  Woodmansie     Gladys  33    E.U. of North        female   \n",
      "568     128       Wride     Ana J.  34    E.U. of North        female   \n",
      "591     130       Smith     Ysabel  34    E.U. of North        female   \n",
      "594     131  De la Cruz    Bentura  22           Mexico        female   \n",
      "\n",
      "    date_arrived marriage_status     colony  \n",
      "22       1894-10          single  Chuichupa  \n",
      "29    1894-05-01          single  Chuichupa  \n",
      "56           NaN          single  Chuichupa  \n",
      "70           NaN          single  Chuichupa  \n",
      "2     1885-03-10          single    Pacheco  \n",
      "..           ...             ...        ...  \n",
      "566   1885-04-12          single     Juarez  \n",
      "567      1894-07          single     Juarez  \n",
      "568      1889-08          single     Juarez  \n",
      "591      1891-10          single     Juarez  \n",
      "594   1895-08-14          single     Juarez  \n",
      "\n",
      "[125 rows x 9 columns]\n"
     ]
    }
   ],
   "source": [
    "df = single_females = pd.concat([\n",
    "    df_chu[(df_chu['sex_indicated'].str.lower() == 'female') & (df_chu['marriage_status'].str.lower() == 'single')],\n",
    "    df_pa[(df_pa['sex_indicated'].str.lower() == 'female') & (df_pa['marriage_status'].str.lower() == 'single')],\n",
    "    df_diaz[(df_diaz['sex_indicated'].str.lower() == 'female') & (df_diaz['marriage_status'].str.lower() == 'single')],\n",
    "    df_dublan[(df_dublan['sex_indicated'].str.lower() == 'female') & (df_dublan['marriage_status'].str.lower() == 'single')],\n",
    "    df_gar[(df_gar['sex_indicated'].str.lower() == 'female') & (df_gar['marriage_status'].str.lower() == 'single')],\n",
    "    df_gua[(df_gua['sex_indicated'].str.lower() == 'female') & (df_gua['marriage_status'].str.lower() == 'single')],\n",
    "    df_juarez[(df_juarez['sex_indicated'].str.lower() == 'female') & (df_juarez['marriage_status'].str.lower() == 'single')]\n",
    "])\n",
    "\n",
    "# Display the list of single females\n",
    "print(single_females)"
   ]
  },
  {
   "cell_type": "markdown",
   "id": "bbfe01a8",
   "metadata": {},
   "source": [
    "Excellent! We have now generated a list of all the single females throughout the colonies. This data can be used for futher research! But... how?\n",
    "\n",
    "Let's make ANOTHER .csv file!"
   ]
  },
  {
   "cell_type": "code",
   "execution_count": null,
   "id": "0f099eff",
   "metadata": {},
   "outputs": [],
   "source": [
    "df.to_csv('single_females.csv', index=False)"
   ]
  },
  {
   "cell_type": "markdown",
   "id": "cbb40467",
   "metadata": {},
   "source": [
    "Hurray! We have computationally analyzed our census data, successfully displayed the data in pie charts, and generated a list of all the single females throughout the Mormon Colonies of Mexico. "
   ]
  }
 ],
 "metadata": {
  "kernelspec": {
   "display_name": "base",
   "language": "python",
   "name": "python3"
  },
  "language_info": {
   "codemirror_mode": {
    "name": "ipython",
    "version": 3
   },
   "file_extension": ".py",
   "mimetype": "text/x-python",
   "name": "python",
   "nbconvert_exporter": "python",
   "pygments_lexer": "ipython3",
   "version": "3.12.7"
  }
 },
 "nbformat": 4,
 "nbformat_minor": 5
}
